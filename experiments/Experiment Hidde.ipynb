{
 "cells": [
  {
   "cell_type": "markdown",
   "metadata": {},
   "source": [
    "# Import Libraries"
   ]
  },
  {
   "cell_type": "code",
   "execution_count": null,
   "metadata": {},
   "outputs": [],
   "source": [
    "import sys\n",
    "import os\n",
    "\n",
    "# Move one level up from \"experiments/\" to the project root (MLGroup105)\n",
    "BASE_DIR = os.path.abspath(os.path.join(os.getcwd(), \"..\"))\n",
    "\n",
    "# Path to src/\n",
    "SRC_DIR = os.path.join(BASE_DIR, \"src\")\n",
    "\n",
    "# Ensure \"src/\" is in sys.path\n",
    "if SRC_DIR not in sys.path:\n",
    "    sys.path.insert(0, SRC_DIR)  # Ensure src/ is the first path\n",
    "\n",
    "# Debugging: Print paths\n",
    "print(f\"Project Root: {BASE_DIR}\")\n",
    "print(f\"Added to sys.path: {sys.path[0]}\")\n"
   ]
  },
  {
   "cell_type": "code",
   "execution_count": null,
   "metadata": {},
   "outputs": [],
   "source": [
    "import torch\n",
    "from timeit import default_timer as timer\n",
    "from model import AgePredictionCNN\n",
    "from train import train\n",
    "from evaluate import plot_loss_and_accuracy_curves, predict, evaluate_predictions\n",
    "from data import AgeDatasetManager\n",
    "from config import device\n",
    "import torch.nn as nn\n",
    "from torchvision import transforms\n"
   ]
  },
  {
   "cell_type": "markdown",
   "metadata": {},
   "source": [
    "# Load and Prepare Data"
   ]
  },
  {
   "cell_type": "code",
   "execution_count": null,
   "metadata": {},
   "outputs": [],
   "source": [
    "# Define transformations for training and testing data\n",
    "train_transform = transforms.Compose([\n",
    "    transforms.Resize(size=(128, 128)),\n",
    "    transforms.RandomHorizontalFlip(p=0.5),\n",
    "    transforms.RandomRotation(degrees=10),\n",
    "    transforms.ColorJitter(brightness=0.2, contrast=0.2),\n",
    "    transforms.ToTensor(),\n",
    "    transforms.Normalize(mean=[0.485, 0.456, 0.406], std=[0.229, 0.224, 0.225])\n",
    "])\n",
    "\n",
    "test_transform = transforms.Compose([\n",
    "    transforms.Resize(size=(128, 128)),\n",
    "    transforms.ToTensor(),\n",
    "    transforms.Normalize(mean=[0.485, 0.456, 0.406], std=[0.229, 0.224, 0.225])\n",
    "])\n",
    "\n",
    "# Initialize dataset manager and get DataLoaders\n",
    "dataset_manager = AgeDatasetManager(\n",
    "    age_bins=[0, 18, 25, 70], \n",
    "    age_labels=['Not Old Enough', 'Check ID', 'Old Enough'],\n",
    "    label_dtype=None\n",
    ")\n",
    "\n",
    "train_loader, val_loader, test_loader = dataset_manager.get_data_loaders(\n",
    "    train_size=0.7, val_size=0.15, test_size=0.15, batch_size=16,\n",
    "    train_transform=train_transform, test_transform=test_transform\n",
    ")\n",
    "\n",
    "age_idx = {label: i for i, label in enumerate(dataset_manager.age_labels)}\n"
   ]
  },
  {
   "cell_type": "markdown",
   "metadata": {},
   "source": [
    "# Initialize the Model"
   ]
  },
  {
   "cell_type": "code",
   "execution_count": null,
   "metadata": {},
   "outputs": [],
   "source": [
    "# Initialize the model\n",
    "CNN_model = AgePredictionCNN(num_age_bins=len(age_idx)).to(device)\n",
    "\n",
    "# Define optimizer and loss function\n",
    "optimizer = torch.optim.Adam(CNN_model.parameters(), lr=0.001)\n",
    "\n",
    "# Class weights for imbalanced dataset\n",
    "class_weights = torch.tensor([5.15, 7.37, 1.49], dtype=torch.float32).to(device)\n",
    "age_loss_fn = nn.CrossEntropyLoss(weight=class_weights)"
   ]
  },
  {
   "cell_type": "markdown",
   "metadata": {},
   "source": [
    "#  Train the Model"
   ]
  },
  {
   "cell_type": "code",
   "execution_count": null,
   "metadata": {},
   "outputs": [],
   "source": [
    "EPOCHS = 10\n",
    "\n",
    "start_time = timer()\n",
    "\n",
    "# Train the model\n",
    "model_results = train(\n",
    "    model=CNN_model,\n",
    "    train_dataloader=train_loader,\n",
    "    test_dataloader=val_loader,\n",
    "    optimizer=optimizer,\n",
    "    age_loss_fn=age_loss_fn,\n",
    "    epochs=EPOCHS,\n",
    "    device=device\n",
    ")\n",
    "\n",
    "end_time = timer()\n",
    "print(f'Total Training Time: {end_time - start_time:.3f} seconds')\n"
   ]
  },
  {
   "cell_type": "markdown",
   "metadata": {},
   "source": [
    "# Evaluate the Model"
   ]
  },
  {
   "cell_type": "code",
   "execution_count": null,
   "metadata": {},
   "outputs": [],
   "source": [
    "# Plot loss and accuracy curves\n",
    "plot_loss_and_accuracy_curves(model_results)\n",
    "\n",
    "# Make predictions\n",
    "eval_results = predict(model=CNN_model, dataloader=test_loader)\n",
    "\n",
    "# Generate classification report\n",
    "class_report = evaluate_predictions(eval_results, age_idx)\n",
    "print(class_report)\n"
   ]
  },
  {
   "cell_type": "markdown",
   "metadata": {},
   "source": [
    "# Experiment Documentation\n",
    "### Hyperparameters:\n",
    "- Learning Rate: 0.001\n",
    "- Epochs: 10\n",
    "- Batch Size: 16\n",
    "\n",
    "### Changes Tested:\n",
    "- Applied data augmentation (rotation, color jittering)\n",
    "- Used CrossEntropyLoss with class weights\n",
    "\n",
    "### Results:\n",
    "- Final Test Accuracy: 0.76%\n",
    "- Observed better performance with weighted loss\n",
    "- Check ID is still not presented in the classification_report"
   ]
  },
  {
   "cell_type": "markdown",
   "metadata": {},
   "source": []
  }
 ],
 "metadata": {
  "kernelspec": {
   "display_name": "python_main",
   "language": "python",
   "name": "python3"
  },
  "language_info": {
   "codemirror_mode": {
    "name": "ipython",
    "version": 3
   },
   "file_extension": ".py",
   "mimetype": "text/x-python",
   "name": "python",
   "nbconvert_exporter": "python",
   "pygments_lexer": "ipython3",
   "version": "3.9.6"
  }
 },
 "nbformat": 4,
 "nbformat_minor": 2
}
